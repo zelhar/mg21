{
 "cells": [
  {
   "cell_type": "markdown",
   "id": "bcda9816-8f8f-4a6c-aec9-41553e64666e",
   "metadata": {},
   "source": [
    "## Permutations on Block Matrices\n",
    "\n",
    "This is pretty straight forward. We are dealing here with a class of boolean matrices $\\mathcal{B}$ that are equivalent by permutations to a block diagonal matrix (blocks of 1s).\n",
    "This means $A \\in \\mathcal{B}$, if and only if there exists a permutation matrix $P$, such that $C = P^{t} \\cdot A \\cdot P$ is a block diagonal matrix.\n",
    "In this case we will also say that $A \\equiv C$ (by permutations. \n",
    "\n",
    "Not that $A \\cdot P$ means permuting the columns of $A$m according to $P$, and $P^{t} \\cdot A$ means permuting the rows of $A$ in the same permutation that $P$ define if we look at it as a column permutation. So the operation $P^{t} A P$ is equivalent to re-indexing.\n",
    "\n",
    "Another thing to consider is for any permutation matrix $P^{t} = P^{-1}$. lets identify the permutation matrix $P$ with the corresponding column permutation $\\pi$.\n",
    "Recall that any permutation can be expressed as a composition of 2-cycles: $\\pi = \\prod_1^k a_i$, so correspondingly $P = \\prod_1^n A_i$.\n",
    "Recall also that a 2-cycle is its own inverse.\n",
    "This confirms that $P^t = \\prod_n^1 A_i^t = \\prod_n^1 A_i^{-1} = P^{-1}$ (and note the order change). So $P^t A$ is like doing the 2-permutations of $p$ on the rows and in the reverse order.\n",
    "\n",
    "\n",
    "Now lets look at a block matrix and what permutations do and don't to it.\n"
   ]
  },
  {
   "cell_type": "code",
   "execution_count": 1,
   "id": "e8256e94-fa66-41d8-9924-8ebcff335883",
   "metadata": {},
   "outputs": [],
   "source": [
    "import numpy as np\n",
    "from PIL import Image\n",
    "import matplotlib.pyplot as plt\n",
    "from functools import reduce\n",
    "\n",
    "\n",
    "def blockMatrix(blocks):\n",
    "    \"\"\"creates a bloack 0-1 matrix.\n",
    "    param blocks: list of non-negative integers which is the size of the blocks.\n",
    "    a 0 block size corresponds to a 0 on the main diagonal.\n",
    "    \"\"\"\n",
    "    blocks = np.array(blocks).astype(\"int64\")\n",
    "    f = lambda x: 1 if x == 0 else x\n",
    "    n = np.sum([f(x) for x in blocks])\n",
    "    n = int(n)\n",
    "    A = np.zeros((n, n))\n",
    "    pos = 0\n",
    "    for i in range(len(blocks)):\n",
    "        b = blocks[i]\n",
    "        if b > 0:\n",
    "            A[pos : pos + b, pos : pos + b] = np.ones((b, b))\n",
    "        pos += f(b)\n",
    "    return A\n",
    "\n",
    "\n",
    "def permutationMatrix(ls):\n",
    "    \"\"\"returns a permutation matrix of size len(ls)^2.\n",
    "    param ls: should be a reordering of range(len(ls)), which defines the\n",
    "    permutation on the ROWS.\n",
    "    returns a permutation matrix P.\n",
    "    np.dot(P,A) should be rearrangement of the rows of A according to P.\n",
    "    To permute the columns of a matrix A use:\n",
    "    Q = np.transpose(P), then: np.dot(A,Q).\n",
    "    \"\"\"\n",
    "    n = len(ls)\n",
    "    P = np.zeros((n, n))\n",
    "    for i in range(n):\n",
    "        P[i, ls[i]] = 1\n",
    "    return P\n",
    "\n",
    "\n",
    "def shuffleCopyMatrix(lins, louts, msize):\n",
    "    \"\"\"Returns a matrix P that represents switch and copy operations\n",
    "    on the rows of a matrix.\n",
    "    param msize: the size (of the square matrix).\n",
    "    param lins: row indices to be replaced.\n",
    "    param louts: row that replace the ones listed in lins.\n",
    "    lins and louts must be of the same length and contain indiced within\n",
    "    range(msize).\n",
    "    These operations are performed on the identity matrix, and the result\n",
    "    is the return value P.\n",
    "    \"\"\"\n",
    "    # P = np.zeros((msize,msize))\n",
    "    P = np.identity(msize)\n",
    "    I = np.identity(msize)\n",
    "    if not len(lins) == len(louts):\n",
    "        return P\n",
    "    for i in range(len(lins)):\n",
    "        P[lins[i]] = I[louts[i]]\n",
    "    return P\n",
    "\n",
    "\n",
    "def scoreMatrix(n):\n",
    "    \"\"\"The score function of the matrix. The assumption is that the true\n",
    "    arrangement maximized the interaction close to the main diagonal.\n",
    "    The total sum of the interaction is an invariant, preserved by permuations.\n",
    "    param n: size of ca 2-d n over n array.\n",
    "    returns the score matrix, which is used to calculate the score of any given\n",
    "    n^2 matrix.\n",
    "    \"\"\"\n",
    "    s = np.arange(n)\n",
    "    s = np.exp(-s)\n",
    "    S = np.zeros((n, n))\n",
    "    for i in range(n):\n",
    "        S[i][i:] = s[: n - i]\n",
    "    return S\n",
    "\n",
    "\n",
    "def score(A, S):\n",
    "    \"\"\"returns the weighted sum (by the score matrix S) of\n",
    "    the matrix A\n",
    "    \"\"\"\n",
    "    return np.sum(A * S)\n",
    "\n",
    "def constrainMatrix(ls, A):\n",
    "    \"\"\"Returns a matrix of the same dimension as A, but every entry with\n",
    "    an index (either row or column) not in ls is 0.\n",
    "    \"\"\"\n",
    "    B = np.zeros_like(A)\n",
    "    #B[np.ix_(ls,ls)] = 1\n",
    "    B[np.ix_(ls,ls)] = A[np.ix_(ls,ls)]\n",
    "    #B[ls][:,ls] = A[ls][:,ls]\n",
    "    return B\n",
    "\n",
    "def resetIndices(ls, A):\n",
    "    \"\"\"essentially returns the constraint of A to the complement indices of ls,\n",
    "    by reseting all the indices in ls to 0.\n",
    "    \"\"\"\n",
    "    B = A.copy()\n",
    "    B[ls,:] = 0\n",
    "    B[:,ls] = 0\n",
    "    return B\n",
    "\n",
    "\n",
    "def reindexMatrix(iss, jss, A):\n",
    "    \"\"\"iss and jss are lists of indices of equal size, representing\n",
    "    a permuation: iss[i] is replaced with jss[i]. all other indices which are\n",
    "    not in the lists left unchanged.\n",
    "    \"\"\"\n",
    "    n = len(A)\n",
    "    B = np.zeros_like(A)\n",
    "    tss = [i for i in range(n)]\n",
    "    for i in range(len(iss)):\n",
    "        tss[iss[i]] = jss[i]\n",
    "    for i in range(n):\n",
    "        for j in range(n):\n",
    "            B[i, j] = A[tss[i], tss[j]]\n",
    "    return B\n",
    "\n",
    "def scorePair(iss, jss, refmat, scoremat):\n",
    "    A = np.zeros_like(refmat)\n",
    "    l = iss + jss\n",
    "    n = len(l)\n",
    "    for i in range(n):\n",
    "        for j in range(n):\n",
    "            A[i, j] = refmat[l[i], l[j]]\n",
    "    return score(A, scoremat)\n",
    "\n",
    "\n",
    "def scorePair2(iss, jss, refmat):\n",
    "    \"\"\"scores the interaction of two segments\n",
    "    iss and jss. weighted by the ideal diagonal distribution.\n",
    "    \"\"\"\n",
    "    s = 0\n",
    "    temp = 0\n",
    "    for i in range(len(iss)):\n",
    "        for j in range(len(jss)):\n",
    "            temp = np.exp(-np.abs(j + len(iss) - i))\n",
    "            # we only care about interaction between the 2 segments and not\n",
    "            # inside each one of them which wouldn't be affected by\n",
    "            # rearrangement.\n",
    "            s += refmat[iss[i], jss[j]] * temp\n",
    "    return s\n",
    "\n",
    "def scorePair3(iss, jss, refmat, lreverse=False, rreverse=False):\n",
    "    \"\"\"iss, jss must be lists of segments of the index range of refmat,\n",
    "    our reference matrix.\n",
    "    reurns the interaction score of iss and jss as if reindexed the matrix so\n",
    "    that they will be adjuscent to each other.\n",
    "    \"\"\"\n",
    "    s = 0\n",
    "    temp = 0\n",
    "    for i in range(len(iss)):\n",
    "        for j in range(len(jss)):\n",
    "            x = iss[i]\n",
    "            y = jss[j]\n",
    "            if lreverse:\n",
    "                x = iss[-1 - i]\n",
    "            if rreverse:\n",
    "                y = jss[-1 -j ]\n",
    "            # temp = np.exp(-np.abs(i-j))\n",
    "            #temp = np.exp(-np.abs(x - y))\n",
    "            temp = np.exp(-np.abs(j + len(iss) - i))\n",
    "            # we only care about interaction between the 2 segments and not\n",
    "            # inside each one of them which wouldn't be affected by\n",
    "            # rearrangement.\n",
    "            s += refmat[x, y] * temp\n",
    "    return s\n",
    "\n",
    "\n",
    "# and the corrsponding indices are:\n",
    "def articulate(l):\n",
    "    \"\"\"l is a list of positive integers.\n",
    "    returns the implied articulation, meaning a list of lists (or 1d arrays)\n",
    "    ls, such that ls[0] it the numbers 0 to l[0]-1, ls[1] is a list of the\n",
    "    numbers ls[1] to ls[2]-1 etc.\n",
    "    \"\"\"\n",
    "    # ls = [np.arange(l[0]).astype('uint64')]\n",
    "    ls = []\n",
    "    offsets = np.cumsum([0] + l)\n",
    "    for i in range(0, len(l)):\n",
    "        xs = np.arange(l[i]).astype(\"uint64\") + offsets[i]\n",
    "        ls.append(xs)\n",
    "    return ls\n",
    "\n",
    "def flip1(s, A, arts):\n",
    "    \"\"\"flips (reverses) the s'th segment, as listed by arts.\n",
    "    returns new matrix.\n",
    "    param s: the segment to flip.\n",
    "    param A: the matrix.\n",
    "    param arts: the articulation of A.\n",
    "    \"\"\"\n",
    "    myarts = arts.copy()\n",
    "    myarts[s] = np.flip(myarts[s])\n",
    "    B = reindexMatrix(arts[s], myarts[s], A)\n",
    "    return B\n",
    "\n",
    "\n",
    "def indexing(arts):\n",
    "   return reduce(lambda x,y: x + list(y), arts, [])\n",
    "\n",
    "def swap2(s, r, A, arts):\n",
    "    \"\"\"swaps segments s and r, and returns the new\n",
    "    matrix and the new segmentation.\n",
    "    \"\"\"\n",
    "    myarts = arts.copy()\n",
    "    myarts[s] = arts[r]\n",
    "    myarts[r] = arts[s]\n",
    "    B = reindexMatrix(indexing(arts), indexing(myarts), A)\n",
    "    newarts = articulate([len(x) for x in myarts])\n",
    "    return newarts, B\n",
    "\n",
    "def improve(A, xs):\n",
    "    \"\"\"param: A: matrix.\n",
    "    param xs: associated articulation.\n",
    "    checks if segments 0 and 1 should be attached in some particular order.\n",
    "    \"\"\"\n",
    "    if len(xs) == 1:\n",
    "        return xs, A\n",
    "    iss = xs[0]\n",
    "    jss = xs[1]\n",
    "    # we're going to see if iss and jss belong together in some configuration\n",
    "    sl = scorePair3(iss,jss, A)\n",
    "    slrv = scorePair3(iss,jss, A, lreverse=True)\n",
    "    sr = scorePair3(jss,iss, A)\n",
    "    srrv = scorePair3(jss,iss, A, rreverse=True)\n",
    "    t = np.max([sl, slrv, sr, srrv])\n",
    "    mysegs = [len(xs[i]) for i in range(1, len(xs))]\n",
    "    mysegs[0] += len(xs[0])\n",
    "    mysegs = articulate(mysegs)\n",
    "    if t == 0:\n",
    "        return xs, A\n",
    "    if t == sl:\n",
    "        # nothin to change\n",
    "        return mysegs, A\n",
    "    elif t == sr:\n",
    "        # swap 0 and 1 segments\n",
    "        _, B = swap2(1,0, A, xs)\n",
    "        return mysegs, B\n",
    "    elif t == slrv:\n",
    "        # first flip the segment 0\n",
    "        B = flip1(0, A, xs)\n",
    "        return mysegs, B\n",
    "    else:\n",
    "        # first flip the segment 0\n",
    "        B = flip1(0, A, xs)\n",
    "        # then make the switch\n",
    "        _, B = swap2(1,0, B, xs)\n",
    "        return mysegs, B\n",
    "\n",
    "\n",
    "    \n"
   ]
  },
  {
   "cell_type": "code",
   "execution_count": 2,
   "id": "f23b316e-93b2-4a0e-9a72-971c51064025",
   "metadata": {},
   "outputs": [
    {
     "data": {
      "text/plain": [
       "<matplotlib.image.AxesImage at 0x7faf9cecce80>"
      ]
     },
     "execution_count": 2,
     "metadata": {},
     "output_type": "execute_result"
    },
    {
     "data": {
      "image/png": "[encoded data removed]",
      "text/plain": [
       "<Figure size 288x288 with 1 Axes>"
      ]
     },
     "metadata": {
      "needs_background": "light"
     },
     "output_type": "display_data"
    }
   ],
   "source": [
    "myblocks = [10,15,17,19,17,15,10]\n",
    "mymatrix = blockMatrix(myblocks)\n",
    "\n",
    "plt.matshow(mymatrix)\n"
   ]
  },
  {
   "cell_type": "markdown",
   "id": "1bd6bb94-b298-4cfa-a117-9318b797900e",
   "metadata": {},
   "source": [
    "We now define a distribution (well sort of, not normalized) on the $103 \\times 103$ matrix. We would like for cells close to the diagonal to have a high chances of being $1$ and the further the cell if from the main diagonal, it is exponentially less likely for it to be $1$. So $P(A[i,j] = 1) \\propto e^{-|i-j|}$\n",
    "\n",
    "The plots below show this distribution and also how it looks in log scale."
   ]
  },
  {
   "cell_type": "code",
   "execution_count": 3,
   "id": "8e7d65f1-6f87-4008-8098-ee0f6b7e71c8",
   "metadata": {},
   "outputs": [
    {
     "data": {
      "text/plain": [
       "Text(0.5, 1.0, 'log scale')"
      ]
     },
     "execution_count": 3,
     "metadata": {},
     "output_type": "execute_result"
    },
    {
     "data": {
      "image/png": "[encoded data removed]",
      "text/plain": [
       "<Figure size 432x288 with 2 Axes>"
      ]
     },
     "metadata": {
      "needs_background": "light"
     },
     "output_type": "display_data"
    }
   ],
   "source": [
    "dmatrix = scoreMatrix(len(mymatrix))\n",
    "dmatrix += np.transpose(dmatrix)\n",
    "dmatrix -= np.identity(len(dmatrix))\n",
    "\n",
    "\n",
    "fig, axs = plt.subplots(nrows=1, ncols=2)\n",
    "fig.suptitle('ideal distribution of 1s and 0s')\n",
    "\n",
    "axs[0].imshow(dmatrix)\n",
    "axs[0].set_title('original')\n",
    "axs[1].imshow(np.log(dmatrix))\n",
    "axs[1].set_title('log scale')\n"
   ]
  },
  {
   "cell_type": "markdown",
   "id": "f10dbcb8-a0ca-44cd-b301-0717a8730349",
   "metadata": {},
   "source": [
    "we call this distribution matrix $S$, and let $A$ be any boolean matrix that is equivalent by permutations to some block diagonal matrix $B$.\n",
    "We define the score of $A$ to be $s(A) = \\sum_{i,j} A_{i,j}S_{i,j} = \\sum_{i,j} A_{i,j}\\exp-|i-j|)$\n",
    "\n",
    "Theorem: If $A$ and $B$ as above, then $s(A) \\leq s(B)$ and $s(B) = s(A)$ if and only if $A$ is itself a block matrix which is a permutation on the blocks of $B$ (and inside a block, any permutation\n",
    "of its indices as well).\n",
    "proof: pretty straight forward by induction.\n",
    "\n"
   ]
  },
  {
   "cell_type": "markdown",
   "id": "30252fe4-9662-4651-a4a8-ced588de3d2e",
   "metadata": {},
   "source": [
    "Sow lets assume that we are only given the matrix $A$. We know it is equivalent by permutations to some unknown block matrix $B$. How easy is it to reach $B$ from $A$?\n",
    "\n",
    "So first recall that any permutation on the blocks of $B$ would result in a matrix of the same, maximal score. We don't necessarily know how to distinguish between such matrices.\n",
    "\n",
    "Our indices run from $0$ to $n-1$ ($n=103$ in our particular sampple). Every block diagonal matrix can be defined by a consequetive list of the block sizes on its diagonal (look for example that the python code above). So lets say that $B = \\text{blcks}_{i = 0}^k(b_i)$ (the sum of the $b_i$'s add up to $n$ - the number of $b_i$ which are $0$ (which represent a $0$ on the diagonal).\n",
    "\n",
    "Lets say that $I = [0,n)$ (our index range) and the blocks of $B$ can be designated by $I = \\cup_1^k I_i = \\cup_i [x_i, y_i) = \\cup_i [x_i, x_i+b_i)$\n",
    "(where $0= x_0 < x_1 < \\dots x_i < x_{i+1} \\dots x_n = n - b_n$)"
   ]
  },
  {
   "cell_type": "markdown",
   "id": "5a0e0626-6d72-4cbc-bbfb-acbb0f144154",
   "metadata": {},
   "source": [
    "Now lets consider a different segmentation $\\sigma(I) = {[u_i,v_i)}$ of $I$: $I = \\cup_0^l J_i = \\cup_j [u_j, v_j)$ where $0=u_0 < v_0=u_1 < \\dots$\n",
    "\n",
    "We require from the segmentation $\\sigma(I)$ to satisfy the following conditions:\n",
    "1) If $u_j \\in [x_i,y_i) = I_i$ then $v_j \\notin I_i$.\n",
    "2) IF $u_j = x_i$ for some $i$, then $\\forall i v_j \\neq y_i$\n",
    "3) IF $v_j = y_i$ for some $i$, then $\\forall i u_j \\neq x_i$\n",
    "4) for just the two end segments, we may allow them to be a prefix of the first block or a suffix of the last bloack, and then all the internal segments\n",
    "    must be starting and ending inside a block and not at its exact ends.\n",
    "\n",
    "To explain this in words, every segment $J_j$ cannot be contained completely inside just one interval $I_i$, and in addition no segment $J-j$ is a exactly the union of several consequetive intervals.\n",
    "\n",
    "This type of segmentation ensures that every segment $J_j$ interacts with at least one of $J_{j-1}$ or $J_{j+1}$ where by interacting we mean there is some $s \\in J_{i}$ and $t \\in J_{i+1}$ and some $r \\in \\{0 \\dots n\\}$ such that $s,t \\in I_r$ and therefore $A[s,t] = 1$.\n",
    "Moreover, it follows from our requirement from segmentations that $J_i$ and $J_j$ have $0$ interaction if $|i-j| > 1$. \n"
   ]
  },
  {
   "cell_type": "markdown",
   "id": "620c21a8-79e4-4ff8-8ef4-b5abbc694703",
   "metadata": {},
   "source": [
    "So now suppose that we know that matrix $A$ was obtained by permutations from $B$ that are of two types:\n",
    "1) permuting the order of the segments $\\pi(J) = \\{J_{\\pi(i)}\\}$, and\n",
    "2) reversing some of the segments: $J_i \\to \\text{rev}(J_i)$.\n",
    "And we are given not just $A$ but also a list of numbers that represent segments (which were obtained from the segmentation $J$).\n",
    "In other words we have a segmented partition $K = \\cup_1^l K_i = \\cup [c_i,d_i)$ which was obtained from the segmentation $J$ by performing the permutations as explained above and then renaming the indices to $0 \\dot n-1$. \n",
    "\n",
    "Even after this rearrangement it still holds that $K_i$ will interact with one or two and not more segments $K_x, K_y$ and these will be segments that correspond to a conseqetive 3 neighboring segements in the original segmentation $J$.\n",
    "\n",
    "The strongest interaction (according to our ideal distribution) will happen if we stitch two such interacting $k$-segments in the right order (as it will be closest to the diagonal.\n",
    "This allows us to reconstruct the original matrix in a very simple way:\n",
    "while the number of segments is greater than 1:\n",
    "* pick a segment\n",
    "* find the segment with the strongest interaction with it\n",
    "* stitch them together and re-index the indices to reflect the reordering and possibly reverse operations that is required. reducing the number of segments by 1\n",
    "* repeat\n",
    "\n",
    "I haven't provided the exact definition of 'strongest interaction', will do it later. But this is basically how it goes:\n",
    "for two arbitraru segments $X = [a, a+1, \\dots, a+x)$ and $Y = [y, y+1, \\dots y+b)$, we define a score function with respect to the matrix $A$ as follows:\n",
    "$s(X,Y) = \\sum_{i =0}^{x-1} \\sum_{j = 0}^{y-1} A[X[i], Y[j]] \\exp(-|i-j|)$\n",
    "\n",
    "In general $s(X,Y) \\neq s(Y,X)$. And we also allow reverse, so if $Y^r$ is the reverse of $Y$, let $A|_{Y^r}$ be the resulting matrix from $A$ after reindexing according to $Y^r$.\n",
    "Then $s(X,Y^r)$ is the same formula as above but replacing $A$ with $A|_{Y^r}$.\n",
    "\n",
    "In the algorithm above, to find a neighbor of $X$ to join with it, we find the one or two interaction partners $Y,Z$, and pick the one (or its reverse) that maximized:\n",
    "$s(X,Y), s(Y,X), s(Y^r, X), S(X, Y^r), s(X,Z), \\dots$. 8 combinations in total. We actually go over all the segments but these are the only combination which will possibly be non-zero."
   ]
  },
  {
   "cell_type": "markdown",
   "id": "318df72e-81ef-45fb-a1c3-6fd535c65de5",
   "metadata": {},
   "source": [
    "## An example\n",
    "\n",
    "We shall construct this block matrix:\n"
   ]
  },
  {
   "cell_type": "code",
   "execution_count": 4,
   "id": "14247edb-5226-4656-b270-505b70e04e4b",
   "metadata": {},
   "outputs": [
    {
     "data": {
      "text/plain": [
       "<matplotlib.image.AxesImage at 0x7faf768e7e50>"
      ]
     },
     "execution_count": 4,
     "metadata": {},
     "output_type": "execute_result"
    },
    {
     "data": {
      "image/png": "[encoded data removed]",
      "text/plain": [
       "<Figure size 288x288 with 1 Axes>"
      ]
     },
     "metadata": {
      "needs_background": "light"
     },
     "output_type": "display_data"
    }
   ],
   "source": [
    "# a bigger experiment\n",
    "\n",
    "fooblocks = [15,17,19,20,10,21,30,21,40,9,27,19]\n",
    "foo = blockMatrix(fooblocks)\n",
    "\n",
    "np.sum(fooblocks)\n",
    "\n",
    "foosegs = [38, 34, 32, 38, 37, 34, 35]\n",
    "np.sum(foosegs)\n",
    "np.sum(fooblocks)\n",
    "\n",
    "foosegs = articulate(foosegs)\n",
    "\n",
    "\n",
    "plt.matshow(foo)\n"
   ]
  },
  {
   "cell_type": "markdown",
   "id": "1baf9413-67d6-4d0e-ae77-a958185fbff1",
   "metadata": {},
   "source": [
    "perform some swaps and flips and keep track of the segmentation\n"
   ]
  },
  {
   "cell_type": "code",
   "execution_count": 11,
   "id": "25b06766-78b8-463e-9236-778131b7e7fe",
   "metadata": {},
   "outputs": [
    {
     "data": {
      "text/plain": [
       "<matplotlib.image.AxesImage at 0x7faf76524e20>"
      ]
     },
     "execution_count": 11,
     "metadata": {},
     "output_type": "execute_result"
    },
    {
     "data": {
      "image/png": "[encoded data removed]",
      "text/plain": [
       "<Figure size 288x288 with 1 Axes>"
      ]
     },
     "metadata": {
      "needs_background": "light"
     },
     "output_type": "display_data"
    },
    {
     "data": {
      "image/png": "[encoded data removed]",
      "text/plain": [
       "<Figure size 288x288 with 1 Axes>"
      ]
     },
     "metadata": {
      "needs_background": "light"
     },
     "output_type": "display_data"
    }
   ],
   "source": [
    "# now perform some flips and swaps\n",
    "bar = flip1(0, foo, foosegs)\n",
    "bar = flip1(1, foo, foosegs)\n",
    "bar = flip1(5, foo, foosegs)\n",
    "barsegs, bar = swap2(0,3, bar, foosegs)\n",
    "barsegs, bar = swap2(1,2, bar, barsegs)\n",
    "barsegs, bar = swap2(5,2, bar, barsegs)\n",
    "barsegs, bar = swap2(4,0, bar, barsegs)\n",
    "barsegs, bar = swap2(5, 1, bar, barsegs)\n",
    "barsegs, bar = swap2(1,2, bar, barsegs)\n",
    "\n",
    "plt.matshow(foo)\n",
    "plt.matshow(bar)\n"
   ]
  },
  {
   "cell_type": "code",
   "execution_count": 12,
   "id": "e3d8b65f-2f97-44c9-aa27-20ccfb7907e7",
   "metadata": {},
   "outputs": [
    {
     "data": {
      "text/plain": [
       "Text(0.5, 1.0, 'reconstructed')"
      ]
     },
     "execution_count": 12,
     "metadata": {},
     "output_type": "execute_result"
    },
    {
     "data": {
      "image/png": "[encoded data removed]",
      "text/plain": [
       "<Figure size 288x288 with 1 Axes>"
      ]
     },
     "metadata": {
      "needs_background": "light"
     },
     "output_type": "display_data"
    },
    {
     "data": {
      "image/png": "[encoded data removed]",
      "text/plain": [
       "<Figure size 288x288 with 1 Axes>"
      ]
     },
     "metadata": {
      "needs_background": "light"
     },
     "output_type": "display_data"
    },
    {
     "data": {
      "image/png": "[encoded data removed]",
      "text/plain": [
       "<Figure size 288x288 with 1 Axes>"
      ]
     },
     "metadata": {
      "needs_background": "light"
     },
     "output_type": "display_data"
    }
   ],
   "source": [
    "oldbar = bar.copy()\n",
    "\n",
    "# reconstruction procedure\n",
    "while len(barsegs) > 1:\n",
    "    x = np.random.randint(1,len(barsegs))\n",
    "    barsegs, bar = swap2(1,x, bar, barsegs)\n",
    "    barsegs, bar = improve(bar, barsegs)\n",
    "plt.matshow(foo)\n",
    "plt.title(\"original\")\n",
    "plt.matshow(oldbar)\n",
    "plt.title(\"scrumbled\")\n",
    "plt.matshow(bar)\n",
    "plt.title(\"reconstructed\")"
   ]
  },
  {
   "cell_type": "markdown",
   "id": "0a0c96fe-a85d-44ec-b975-15277e4f550e",
   "metadata": {},
   "source": [
    "# Left to do\n",
    "## Hi-C Matrices\n",
    "These matrices are composed of 3 types of signals:\n",
    "1) TADs which are loops of first order of the DNA. These are the strongest signals and they look like red-hot diagonal blocks\n",
    "    if the indexing is correct.\n",
    "2) Compartments, which are loops of higher order (loops of loops or whatever). This signal is weaker and it doesn't interest us, and we assume\n",
    "    it can be mostly be cleared out.\n",
    "3) noise, which we assume is negligible, This look as sphoradic strong or weaker spots in random positions.\n",
    "\n",
    "### approximating a hi-c to by a messed-up block diagonal matrix\n",
    "\n",
    "### further\n",
    "\n",
    "If the matrix we are given was generated by arbitrary permutation out of a block diagonal matrix and we have no information about segments, we can still reconstruct the blocks. However in this case we lose the information about the internal order within each block, and the order of the blocks along the diagonal. We only know how to group back positions which belong together, but in arbitrary order.\n",
    "\n",
    "This can be done for example by treating every position at the beginning as its own cluster, and progressively join positions, and later cluster, that interact with each other, until we are left with just one cluster that covers the entire sequence.\n",
    "\n"
   ]
  },
  {
   "cell_type": "code",
   "execution_count": null,
   "id": "fb7ff95c-57a3-4e12-a4c1-b9e9660f58ac",
   "metadata": {},
   "outputs": [],
   "source": []
  }
 ],
 "metadata": {
  "kernelspec": {
   "display_name": "Python 3",
   "language": "python",
   "name": "python3"
  },
  "language_info": {
   "codemirror_mode": {
    "name": "ipython",
    "version": 3
   },
   "file_extension": ".py",
   "mimetype": "text/x-python",
   "name": "python",
   "nbconvert_exporter": "python",
   "pygments_lexer": "ipython3",
   "version": "3.9.2"
  }
 },
 "nbformat": 4,
 "nbformat_minor": 5
}
